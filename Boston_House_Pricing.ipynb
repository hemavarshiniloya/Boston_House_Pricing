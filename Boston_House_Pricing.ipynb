{
  "cells": [
    {
      "cell_type": "code",
      "execution_count": null,
      "id": "6c37dd76",
      "metadata": {
        "id": "6c37dd76"
      },
      "outputs": [],
      "source": [
        "from keras.datasets import boston_housing"
      ]
    },
    {
      "cell_type": "code",
      "execution_count": null,
      "id": "7728e982",
      "metadata": {
        "id": "7728e982",
        "outputId": "f955b30e-7425-4274-dc9b-126ce9b1e975",
        "colab": {
          "base_uri": "https://localhost:8080/"
        }
      },
      "outputs": [
        {
          "output_type": "stream",
          "name": "stdout",
          "text": [
            "Downloading data from https://storage.googleapis.com/tensorflow/tf-keras-datasets/boston_housing.npz\n",
            "57026/57026 [==============================] - 0s 0us/step\n"
          ]
        }
      ],
      "source": [
        "(X_train,y_train),(X_test,y_test)=boston_housing.load_data()"
      ]
    },
    {
      "cell_type": "code",
      "execution_count": null,
      "id": "b1b8cccf",
      "metadata": {
        "id": "b1b8cccf",
        "outputId": "7067e2a6-8936-45f9-966b-8342ff8cfea1",
        "colab": {
          "base_uri": "https://localhost:8080/"
        }
      },
      "outputs": [
        {
          "output_type": "execute_result",
          "data": {
            "text/plain": [
              "((404, 13), (102, 13))"
            ]
          },
          "metadata": {},
          "execution_count": 3
        }
      ],
      "source": [
        "(X_train.shape,X_test.shape)"
      ]
    },
    {
      "cell_type": "code",
      "execution_count": null,
      "id": "efdb5d28",
      "metadata": {
        "id": "efdb5d28"
      },
      "outputs": [],
      "source": [
        "from keras.models import Sequential\n",
        "from keras.layers import Dense"
      ]
    },
    {
      "cell_type": "code",
      "execution_count": null,
      "id": "d0643747",
      "metadata": {
        "id": "d0643747"
      },
      "outputs": [],
      "source": [
        "model=Sequential()\n",
        "model.add(Dense(128,activation='relu',input_shape=(13,)))\n",
        "model.add(Dense(64,activation='relu'))\n",
        "model.add(Dense(1,activation='linear'))#for regression use linear not sigmoid"
      ]
    },
    {
      "cell_type": "code",
      "execution_count": null,
      "id": "1508edc5",
      "metadata": {
        "id": "1508edc5"
      },
      "outputs": [],
      "source": [
        "model.compile(loss='mean_squared_error',optimizer='adam')#for regression 3 types : mse,mae,rmse"
      ]
    },
    {
      "cell_type": "code",
      "execution_count": null,
      "id": "7ab21d5b",
      "metadata": {
        "id": "7ab21d5b",
        "outputId": "976627f8-7898-44e0-e023-1da1b57f8368",
        "colab": {
          "base_uri": "https://localhost:8080/"
        }
      },
      "outputs": [
        {
          "output_type": "stream",
          "name": "stdout",
          "text": [
            "Epoch 1/10\n",
            "13/13 [==============================] - 2s 35ms/step - loss: 147.5649 - val_loss: 132.2863\n",
            "Epoch 2/10\n",
            "13/13 [==============================] - 0s 13ms/step - loss: 92.7822 - val_loss: 74.3769\n",
            "Epoch 3/10\n",
            "13/13 [==============================] - 0s 12ms/step - loss: 68.0543 - val_loss: 58.9587\n",
            "Epoch 4/10\n",
            "13/13 [==============================] - 0s 10ms/step - loss: 55.7120 - val_loss: 57.7636\n",
            "Epoch 5/10\n",
            "13/13 [==============================] - 0s 10ms/step - loss: 54.3986 - val_loss: 55.8074\n",
            "Epoch 6/10\n",
            "13/13 [==============================] - 0s 11ms/step - loss: 50.9124 - val_loss: 79.9085\n",
            "Epoch 7/10\n",
            "13/13 [==============================] - 0s 8ms/step - loss: 57.4723 - val_loss: 56.6403\n",
            "Epoch 8/10\n",
            "13/13 [==============================] - 0s 11ms/step - loss: 49.1383 - val_loss: 53.7730\n",
            "Epoch 9/10\n",
            "13/13 [==============================] - 0s 12ms/step - loss: 47.0382 - val_loss: 48.7217\n",
            "Epoch 10/10\n",
            "13/13 [==============================] - 0s 11ms/step - loss: 49.2353 - val_loss: 57.1867\n"
          ]
        },
        {
          "output_type": "execute_result",
          "data": {
            "text/plain": [
              "<keras.callbacks.History at 0x7f0d113d7310>"
            ]
          },
          "metadata": {},
          "execution_count": 7
        }
      ],
      "source": [
        "model.fit(X_train,y_train,validation_data=(X_test,y_test),epochs=10)"
      ]
    },
    {
      "cell_type": "code",
      "execution_count": null,
      "id": "3fd05c68",
      "metadata": {
        "id": "3fd05c68"
      },
      "outputs": [],
      "source": []
    }
  ],
  "metadata": {
    "kernelspec": {
      "display_name": "Python 3 (ipykernel)",
      "language": "python",
      "name": "python3"
    },
    "language_info": {
      "codemirror_mode": {
        "name": "ipython",
        "version": 3
      },
      "file_extension": ".py",
      "mimetype": "text/x-python",
      "name": "python",
      "nbconvert_exporter": "python",
      "pygments_lexer": "ipython3",
      "version": "3.9.12"
    },
    "colab": {
      "provenance": []
    }
  },
  "nbformat": 4,
  "nbformat_minor": 5
}